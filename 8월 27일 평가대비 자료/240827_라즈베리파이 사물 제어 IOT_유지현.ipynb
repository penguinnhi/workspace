{
 "cells": [
  {
   "cell_type": "markdown",
   "metadata": {},
   "source": [
    "### 라즈베리파이 사물 제어 IOT 평가"
   ]
  },
  {
   "cell_type": "markdown",
   "metadata": {},
   "source": [
    "1. 키보드로 두 수를 입력받아 큰 수부터 출력하는 프로그램을 작성하시요. 단, 입력받는 두 수는 중복이 없다고 가정한다."
   ]
  },
  {
   "cell_type": "code",
   "execution_count": 14,
   "metadata": {},
   "outputs": [
    {
     "name": "stdout",
     "output_type": "stream",
     "text": [
      "5 1\n"
     ]
    }
   ],
   "source": [
    "# 1번 문제 답안 작성\n",
    "num1=int(input('숫자1:'))\n",
    "num2=int(input('숫자2:'))\n",
    "\n",
    "max1 = num1 if num1>num2 else num2\n",
    "min1 = num1 if num1<num2 else num2\n",
    "\n",
    "print(max1,min1)"
   ]
  },
  {
   "cell_type": "markdown",
   "metadata": {},
   "source": [
    "2. 키보드로 세 수를 입력받고,입력받은 세 수를 리스트에 저장하시오.<br> 그 후 리스트에 저장된 수 중 가장 큰 수와 가장 작은 수의 차를 출력하시오."
   ]
  },
  {
   "cell_type": "code",
   "execution_count": 12,
   "metadata": {},
   "outputs": [
    {
     "name": "stdout",
     "output_type": "stream",
     "text": [
      "2\n"
     ]
    }
   ],
   "source": [
    "# 2번 문제 답안 작성\n",
    "list2=[]\n",
    "for i in range(3) :\n",
    "  num=int(input(f'{i+1}번째 정수 입력:'))\n",
    "  list2.append(num)\n",
    "\n",
    "answer = max(list2)-min(list2)\n",
    "print(answer)\n",
    "\n"
   ]
  },
  {
   "cell_type": "markdown",
   "metadata": {},
   "source": [
    "3. 매개변수로 두 정수를 받아, 두 정수 사이의(두 정수 포함) 모든 정수를 갖는 리스트를 리턴하는 함수를 구현하시오."
   ]
  },
  {
   "cell_type": "code",
   "execution_count": 35,
   "metadata": {},
   "outputs": [
    {
     "name": "stdout",
     "output_type": "stream",
     "text": [
      "[5, 6, 7]\n"
     ]
    }
   ],
   "source": [
    "# 3번 문제 답안 작성\n",
    "num3=int(input('숫자1:'))\n",
    "num4=int(input('숫자2:'))\n",
    "\n",
    "list3=[]\n",
    "max=0\n",
    "min=0\n",
    "\n",
    "if num3>num4 :\n",
    "  max=num3\n",
    "  min=num4\n",
    "elif num3<num4 : \n",
    "  max=num4\n",
    "  min=num3\n",
    "\n",
    "for i in range(min,max+1):\n",
    "  list3.append(i)\n",
    "\n",
    "print(list3)\n"
   ]
  },
  {
   "cell_type": "markdown",
   "metadata": {},
   "source": [
    "4. 아래 제시된 phone 객체에 제조사, 모델명, 가격 정보를 키보드로 입력받아,   \n",
    "입력받은 내용을 추가하고 phone 정보를 출력하시오."
   ]
  },
  {
   "cell_type": "code",
   "execution_count": 15,
   "metadata": {},
   "outputs": [
    {
     "name": "stdout",
     "output_type": "stream",
     "text": [
      "{'brand': '삼성', 'modelName': '갤럭시 z플립 4', 'price': 200000}\n"
     ]
    }
   ],
   "source": [
    "phone = {}\n",
    "\n",
    "# 4번 문제 답안 작성\n",
    "phone['brand']=input('제조사 : ')\n",
    "phone['modelName']=input('모델명 : ')\n",
    "phone['price']=int(input('가격정보 : '))\n",
    "\n",
    "print(phone)\n"
   ]
  },
  {
   "cell_type": "markdown",
   "metadata": {},
   "source": [
    "5. 아래 데이터는 자바반과 자반에 소속된 학생들의 정보이다.  \n",
    "나이가 30살 이상인 학생들의 점수의 합을 출력하세요."
   ]
  },
  {
   "cell_type": "code",
   "execution_count": 38,
   "metadata": {},
   "outputs": [
    {
     "name": "stdout",
     "output_type": "stream",
     "text": [
      "250\n"
     ]
    }
   ],
   "source": [
    "javaClass= {\n",
    "  'calssName' : '자바반',\n",
    "  'teacher' : '김자바',\n",
    "  'studentList' : [\n",
    "    {'name' : '홍길동', 'age': 31, 'score' : 85},\n",
    "    {'name' : '이순신', 'age': 35, 'score' : 95},\n",
    "    {'name' : '유관순', 'age': 29, 'score' : 80},\n",
    "    {'name' : '장영실', 'age': 37, 'score' : 70},\n",
    "    {'name' : '신사임당', 'age': 25, 'score' : 65},\n",
    "  ]\n",
    "}\n",
    "\n",
    "# 5번 문제 답안 작성\n",
    "\n",
    "sum5=0\n",
    "for student in javaClass['studentList'] : \n",
    "  if student['age']>=30 :\n",
    "    sum5=sum5+student['score']\n",
    "\n",
    "print(sum5)\n",
    "    \n"
   ]
  },
  {
   "cell_type": "markdown",
   "metadata": {},
   "source": [
    "다음 딕셔너리 데이터를 참고하여 아래 문제들을 해결하시오."
   ]
  },
  {
   "cell_type": "code",
   "execution_count": 2,
   "metadata": {},
   "outputs": [],
   "source": [
    "# 2012년 광역시별 25세 미만 연령별 인구 데이터\n",
    "population = {\n",
    "    '행정기관' : ['서울특별시', '부산광역시', '대구광역시', '인천광역시', '울산광역시'],\n",
    "    '0~4세' : [214651, 68006, 53515, 69453, 29835],\n",
    "    '5~9세' : [210833, 68704, 58332, 68555, 29331],\n",
    "    '10~14세' : [269171, 94802, 91268, 86574, 29035],\n",
    "    '15~19세' : [335828, 124564, 101110, 106435, 49119],\n",
    "    '20~24세' : [343797, 125907, 96078, 102297, 43937]\n",
    "}"
   ]
  },
  {
   "cell_type": "markdown",
   "metadata": {},
   "source": [
    "6. 2012년 기준 대한민국에서 25세 미만의 인구수 중 인구가 가장 많은 연령대를 출력하시오."
   ]
  },
  {
   "cell_type": "code",
   "execution_count": 171,
   "metadata": {},
   "outputs": [
    {
     "name": "stdout",
     "output_type": "stream",
     "text": [
      "['15~19세', 717056]\n",
      "15~19세\n"
     ]
    }
   ],
   "source": [
    "# 6번 문제 답안 작성\n",
    "\n",
    "listAge=[]\n",
    "for key in population.keys() : \n",
    "  if(key!='행정기관'):\n",
    "    listAge.append([key,sum(population[key])])\n",
    "    \n",
    "\n",
    "maxAge=listAge[0]\n",
    "for aa in listAge : \n",
    "  if aa[1]>maxAge[1]:\n",
    "    maxAge=aa\n",
    "\n",
    "\n",
    "print(maxAge[0])\n",
    "\n",
    "\n"
   ]
  },
  {
   "cell_type": "markdown",
   "metadata": {},
   "source": [
    "7. '총 인구수' 라는 키를 추가하고, 해당 키에 0세부터 24세까지의 인구 합을 데이터로 하여 population 데이터에 추가하시오."
   ]
  },
  {
   "cell_type": "code",
   "execution_count": 175,
   "metadata": {},
   "outputs": [
    {
     "data": {
      "text/plain": [
       "{'행정기관': ['서울특별시', '부산광역시', '대구광역시', '인천광역시', '울산광역시'],\n",
       " '0~4세': [214651, 68006, 53515, 69453, 29835],\n",
       " '5~9세': [210833, 68704, 58332, 68555, 29331],\n",
       " '10~14세': [269171, 94802, 91268, 86574, 29035],\n",
       " '15~19세': [335828, 124564, 101110, 106435, 49119],\n",
       " '20~24세': [343797, 125907, 96078, 102297, 43937],\n",
       " '총 인구수': 2871137}"
      ]
     },
     "execution_count": 175,
     "metadata": {},
     "output_type": "execute_result"
    }
   ],
   "source": [
    "# 7번 문제 답안 작성\n",
    "\n",
    "sum7=0\n",
    "for key in population.keys() : \n",
    "  \n",
    "  if(key!='행정기관') : \n",
    "    # print(population[key])\n",
    "    for pp in population[key] :\n",
    "      sum7=sum7+pp\n",
    "\n",
    "# print(sum7)\n",
    "\n",
    "population['총 인구수']=sum7\n",
    "\n",
    "population\n",
    "\n"
   ]
  }
 ],
 "metadata": {
  "kernelspec": {
   "display_name": "Python 3",
   "language": "python",
   "name": "python3"
  },
  "language_info": {
   "codemirror_mode": {
    "name": "ipython",
    "version": 3
   },
   "file_extension": ".py",
   "mimetype": "text/x-python",
   "name": "python",
   "nbconvert_exporter": "python",
   "pygments_lexer": "ipython3",
   "version": "3.12.5"
  }
 },
 "nbformat": 4,
 "nbformat_minor": 2
}

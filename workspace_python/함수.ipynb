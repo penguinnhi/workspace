{
 "cells": [
  {
   "cell_type": "code",
   "execution_count": 1,
   "metadata": {},
   "outputs": [
    {
     "name": "stdout",
     "output_type": "stream",
     "text": [
      "hello\n",
      "world\n",
      "None\n"
     ]
    }
   ],
   "source": [
    "# 함수 선언\n",
    "def sayHello():\n",
    "  print('hello')\n",
    "  print('world')\n",
    "\n",
    "print(sayHello())"
   ]
  },
  {
   "cell_type": "code",
   "execution_count": 3,
   "metadata": {},
   "outputs": [
    {
     "name": "stdout",
     "output_type": "stream",
     "text": [
      "30\n"
     ]
    }
   ],
   "source": [
    "# 리턴이 있는 함수 \n",
    "def getSum() : \n",
    "  return 10+20\n",
    "\n",
    "print(getSum())"
   ]
  },
  {
   "cell_type": "code",
   "execution_count": 6,
   "metadata": {},
   "outputs": [
    {
     "name": "stdout",
     "output_type": "stream",
     "text": [
      "10 20\n"
     ]
    }
   ],
   "source": [
    "# 파이썬은 함수에서 리턴을 여러개 할 수 있다 \n",
    "def getNumbers() : \n",
    "  return 10,20\n",
    "\n",
    "re1,re2=getNumbers()\n",
    "print(re1,re2)"
   ]
  },
  {
   "cell_type": "code",
   "execution_count": 7,
   "metadata": {},
   "outputs": [
    {
     "name": "stdout",
     "output_type": "stream",
     "text": [
      "3\n"
     ]
    }
   ],
   "source": [
    "# 매개 변수가 있는 함수 \n",
    "def getMulti(num1,num2):\n",
    "  return num1+num2\n",
    "\n",
    "print(getMulti(1,2))"
   ]
  },
  {
   "cell_type": "code",
   "execution_count": 9,
   "metadata": {},
   "outputs": [
    {
     "name": "stdout",
     "output_type": "stream",
     "text": [
      "13\n"
     ]
    }
   ],
   "source": [
    "# 매개변수에 default값을 지정할 수 있다\n",
    "def getSum(num1,num2,num3=10):\n",
    "  return num1+num2+num3\n",
    "\n",
    "print(getSum(1,2))"
   ]
  },
  {
   "cell_type": "code",
   "execution_count": 11,
   "metadata": {},
   "outputs": [
    {
     "name": "stdout",
     "output_type": "stream",
     "text": [
      "이름은 야이야이야 나이는 그렇게살아가고 주소는 그렇게후회하고\n",
      "이름은 hihi 나이는 20 주소는 haha\n"
     ]
    }
   ],
   "source": [
    "# 매개변수에 들어가는 인자를 이름으로 지정가능\n",
    "def setMember(name,age,addr):\n",
    "  print(f'이름은 {name} 나이는 {age} 주소는 {addr}')\n",
    "\n",
    "setMember('야이야이야','그렇게살아가고','그렇게후회하고')\n",
    "setMember(name='hihi',addr='haha',age=20)"
   ]
  },
  {
   "cell_type": "code",
   "execution_count": 16,
   "metadata": {},
   "outputs": [
    {
     "name": "stdout",
     "output_type": "stream",
     "text": [
      "6\n"
     ]
    }
   ],
   "source": [
    "# 매개변수로 정수로 이루어진 두 개의 리스트가 들어올 때\n",
    "# 두 리스트의 모든 요소 중 가장 큰 값을 리턴하는 함수\n",
    "# ex) param1=[1,2,3] / param2=[1,5,9] -> 9\n",
    "\n",
    "def getMax(list1,list2) : \n",
    "  return max(list1+list2)\n",
    "\n",
    "print(getMax([1,2,3],[4,5,6]))\n"
   ]
  },
  {
   "cell_type": "code",
   "execution_count": 17,
   "metadata": {},
   "outputs": [
    {
     "name": "stdout",
     "output_type": "stream",
     "text": [
      "['한', '미', '이']\n"
     ]
    }
   ],
   "source": [
    "# 매개변수로 세 개의 문자열이 전달되면 세 문자열의 2번째 글자를 모은 리스트를 리턴하는 함수\n",
    "# ex) 'school', 'phone', 'home' -> ['h','o','m']\n",
    "# 단 매개변수로 전달되는 문자열은 모두 길이가 3이상인 문자열만 들어온다고 가정\n",
    "\n",
    "# listStr=[]\n",
    "\n",
    "def getSecond(str1,str2,str3) : \n",
    "  # listStr.append(str1[2])\n",
    "  # listStr.append(str2[2])\n",
    "  # listStr.append(str3[2])\n",
    "  return [str1[2],str2[2],str3[2]]\n",
    "\n",
    "print(getSecond('김수한무','두루미와','거북이'))\n",
    "\n"
   ]
  },
  {
   "cell_type": "code",
   "execution_count": 14,
   "metadata": {},
   "outputs": [
    {
     "name": "stdout",
     "output_type": "stream",
     "text": [
      "['한', '미', '이']\n"
     ]
    }
   ],
   "source": []
  }
 ],
 "metadata": {
  "kernelspec": {
   "display_name": "Python 3",
   "language": "python",
   "name": "python3"
  },
  "language_info": {
   "codemirror_mode": {
    "name": "ipython",
    "version": 3
   },
   "file_extension": ".py",
   "mimetype": "text/x-python",
   "name": "python",
   "nbconvert_exporter": "python",
   "pygments_lexer": "ipython3",
   "version": "3.12.5"
  }
 },
 "nbformat": 4,
 "nbformat_minor": 2
}

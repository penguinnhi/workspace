{
 "cells": [
  {
   "cell_type": "code",
   "execution_count": null,
   "metadata": {},
   "outputs": [],
   "source": [
    "# 딕셔너리 Dictionary (자료형)\n"
   ]
  },
  {
   "cell_type": "code",
   "execution_count": null,
   "metadata": {},
   "outputs": [],
   "source": [
    "# 빈 딕셔너리 생성\n",
    "dic1 = {}\n",
    "dic2 = {'name':'yu','age':20}\n"
   ]
  },
  {
   "cell_type": "code",
   "execution_count": 1,
   "metadata": {},
   "outputs": [
    {
     "name": "stdout",
     "output_type": "stream",
     "text": [
      "{'stuNum': 3, 'stuName': 'yu'}\n"
     ]
    }
   ],
   "source": [
    "# 중복된 key 값을 가질 수 없음. \n",
    "dic3={\n",
    "  'stuNum':1,\n",
    "  'stuName':'yu',\n",
    "  'stuNum':3\n",
    "}\n",
    "print(dic3)"
   ]
  },
  {
   "cell_type": "code",
   "execution_count": 5,
   "metadata": {},
   "outputs": [
    {
     "name": "stdout",
     "output_type": "stream",
     "text": [
      "{'hey': 1, 'age': 30}\n",
      "{'hey': 'kim', 'age': 30}\n"
     ]
    }
   ],
   "source": [
    "# 데이터 추가\n",
    "# dic['key'] = value\n",
    "dic1={}\n",
    "dic1['hey']=1\n",
    "dic1['age']=30\n",
    "print(dic1)\n",
    "\n",
    "# hey라는 key값을 'kim'으로 변경\n",
    "dic1['hey']='kim'\n",
    "print(dic1)"
   ]
  },
  {
   "cell_type": "code",
   "execution_count": 6,
   "metadata": {},
   "outputs": [
    {
     "name": "stdout",
     "output_type": "stream",
     "text": [
      "{'modelName': 'iPhone', 'price': 10000, 'color': 'black'}\n",
      "{'modelName': 'iPhone', 'price': 10000}\n"
     ]
    }
   ],
   "source": [
    "# 데이터 삭제\n",
    "phone={\n",
    "  'modelName':'iPhone',\n",
    "  'price':10000,\n",
    "  'color':'black'\n",
    "}\n",
    "print(phone)\n",
    "del phone['color']\n",
    "print(phone)"
   ]
  },
  {
   "cell_type": "code",
   "execution_count": 29,
   "metadata": {},
   "outputs": [
    {
     "name": "stdout",
     "output_type": "stream",
     "text": [
      "brand samsung\n",
      "\n",
      "price 10000\n",
      "\n",
      "inch 24\n",
      "\n",
      "color black\n",
      "\n"
     ]
    }
   ],
   "source": [
    "# 데이터 출력\n",
    "monitor={\n",
    "  'brand':'samsung',\n",
    "  'price':10000,\n",
    "  'inch':24,\n",
    "  'color':'black'\n",
    "}\n",
    "\n",
    "# 브랜드만 출력\n",
    "# print(monitor['inch'])\n",
    "\n",
    "# 모든 키값을 출력\n",
    "# print(monitor.keys())\n",
    "\n",
    "# 모든 value값 출력\n",
    "# print(monitor.values())\n",
    "\n",
    "# 반복문을 이용한 key,value 출력 // 시험\n",
    "for key in monitor.keys() : \n",
    "  print(key,monitor[key])\n",
    "  print()\n",
    "  \n",
    "  \n"
   ]
  },
  {
   "cell_type": "code",
   "execution_count": 39,
   "metadata": {},
   "outputs": [
    {
     "name": "stdout",
     "output_type": "stream",
     "text": [
      "game\n",
      "lee\n"
     ]
    }
   ],
   "source": [
    "intro={\n",
    "  'name':'yu',\n",
    "  'age':20,\n",
    "  'hobby':['game','paly'],\n",
    "  'familly':{\n",
    "    'mom':'lee',\n",
    "    'dad':'yu'\n",
    "  }\n",
    "}\n",
    "\n",
    "# intro 데이터에서 첫번째 취미 출력\n",
    "print(intro['hobby'][0])\n",
    "\n",
    "# 어머니의 이름을 출력\n",
    "print(intro['familly']['mom'])\n"
   ]
  },
  {
   "cell_type": "code",
   "execution_count": 40,
   "metadata": {},
   "outputs": [],
   "source": [
    "# 아래의 데이터를 참고하여 문제 해결\n",
    "student = {\n",
    "  'name':'hong',\n",
    "  'korScore':0,\n",
    "  'mathScore':0\n",
    "}\n"
   ]
  },
  {
   "cell_type": "code",
   "execution_count": 42,
   "metadata": {},
   "outputs": [
    {
     "name": "stdout",
     "output_type": "stream",
     "text": [
      "{'name': 'hong', 'korScore': 10, 'mathScore': 20, 'totalScore': 30}\n"
     ]
    }
   ],
   "source": [
    "# 위에서 선언한 딕셔너리 데이터의 국어점수 및 수학점수를 키보드로 입력받은 데이터로 변경\n",
    "kor=int(input('국어:'))\n",
    "math=int(input('수학:'))\n",
    "\n",
    "student['korScore']=kor\n",
    "student['mathScore']=math\n",
    "\n",
    "\n",
    "# 국어점수와 수학점수가 변경되었다면 총점을 저장한다\n",
    "# 총점의 key는 'totalScore'라고 지정하면 됨 \n",
    "\n",
    "student['totalScore']=kor+math\n",
    "# student['totalScore']=student['korScore']+student['mathScore']\n",
    "\n",
    "print(student)\n",
    "\n"
   ]
  }
 ],
 "metadata": {
  "kernelspec": {
   "display_name": "Python 3",
   "language": "python",
   "name": "python3"
  },
  "language_info": {
   "codemirror_mode": {
    "name": "ipython",
    "version": 3
   },
   "file_extension": ".py",
   "mimetype": "text/x-python",
   "name": "python",
   "nbconvert_exporter": "python",
   "pygments_lexer": "ipython3",
   "version": "3.12.5"
  }
 },
 "nbformat": 4,
 "nbformat_minor": 2
}

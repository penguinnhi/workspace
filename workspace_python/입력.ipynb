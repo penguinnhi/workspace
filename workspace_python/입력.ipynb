{
 "cells": [
  {
   "cell_type": "code",
   "execution_count": 2,
   "metadata": {},
   "outputs": [
    {
     "name": "stdout",
     "output_type": "stream",
     "text": [
      "입력받은 수는 20입니다\n"
     ]
    }
   ],
   "source": [
    "# 키보드로 입력받기\n",
    "# input() 함수 사용으로 키보드로 값을 입력받을 수 있다.\n",
    "\n",
    "num = input('숫자를 입력하세요 : ')\n",
    "print(f'입력받은 수는 {num}입니다')\n"
   ]
  },
  {
   "cell_type": "code",
   "execution_count": 11,
   "metadata": {},
   "outputs": [
    {
     "name": "stdout",
     "output_type": "stream",
     "text": [
      "210\n"
     ]
    }
   ],
   "source": [
    "# 문자열을 정수로 변환\n",
    "result1=int('10')\n",
    "result2=int('200')\n",
    "print(result1+result2)"
   ]
  },
  {
   "cell_type": "code",
   "execution_count": 12,
   "metadata": {},
   "outputs": [
    {
     "name": "stdout",
     "output_type": "stream",
     "text": [
      "입력받은 수의 합은 11임\n"
     ]
    }
   ],
   "source": [
    "# 두 정수를 입력받아 두 정수의 합을 출력\n",
    "num1=int(input('숫자1 : '))\n",
    "num2=int(input('숫자2 : '))\n",
    "print(f'입력받은 수의 합은 {num1+num2}임')"
   ]
  },
  {
   "cell_type": "code",
   "execution_count": 13,
   "metadata": {},
   "outputs": [
    {
     "name": "stdout",
     "output_type": "stream",
     "text": [
      "이름은 고길동,  국어점수는 20, 영어점수는 30, 수학점수는 20, 총점70, 평균은 23.333333333333332\n"
     ]
    }
   ],
   "source": [
    "# 키보드로 학생의 이름, , 국어점수, 영어점수, 수학점수 입력받아\n",
    "# 입력받은 학생의 이름, , 국어점수, 영어점수, 수학점수 및 총점과 평균 출력\n",
    "\n",
    "name=input('이름 : ')\n",
    "korScore=int(input('국어점수:'))\n",
    "engScore=int(input('영어점수:'))\n",
    "mathScore=int(input('수학점수:'))\n",
    "print(f'이름은 {name},  국어점수는 {korScore}, 영어점수는 {engScore}, 수학점수는 {mathScore}, 총점{korScore+engScore+mathScore}, 평균은 {(korScore+engScore+mathScore)/3}')"
   ]
  }
 ],
 "metadata": {
  "kernelspec": {
   "display_name": "Python 3",
   "language": "python",
   "name": "python3"
  },
  "language_info": {
   "codemirror_mode": {
    "name": "ipython",
    "version": 3
   },
   "file_extension": ".py",
   "mimetype": "text/x-python",
   "name": "python",
   "nbconvert_exporter": "python",
   "pygments_lexer": "ipython3",
   "version": "3.12.5"
  }
 },
 "nbformat": 4,
 "nbformat_minor": 2
}

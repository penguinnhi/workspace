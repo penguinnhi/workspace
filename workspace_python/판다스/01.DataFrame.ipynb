{
 "cells": [
  {
   "cell_type": "code",
   "execution_count": 1,
   "metadata": {},
   "outputs": [
    {
     "data": {
      "text/plain": [
       "{'이름': ['김수한무', '두루미와', '거북이', '민규', '민지'],\n",
       " '학급': ['개나리', '개나리', '개나리', '노란', '노란'],\n",
       " '국어점수': [90, 50, 60, 70, 80],\n",
       " '영어점수': [20, 30, 10, 80, 90],\n",
       " '평균': [55.0, 40.0, 35.0, 75.0, 85.0],\n",
       " '취미': ['독서', '', '', '헬스', '축구']}"
      ]
     },
     "execution_count": 1,
     "metadata": {},
     "output_type": "execute_result"
    }
   ],
   "source": [
    "# DataFrame을 생성하기 위한 기본 데이터 \n",
    "data = {\n",
    "  '이름':['김수한무','두루미와','거북이','민규','민지'],\n",
    "  '학급':['개나리','개나리','개나리','노란','노란'],\n",
    "  '국어점수':[90,50,60,70,80],\n",
    "  '영어점수':[20,30,10,80,90],\n",
    "  '평균':[55.0,40.0,35.0,75.0,85.0],\n",
    "  '취미':['독서','','','헬스','축구']\n",
    "\n",
    "}\n",
    "\n",
    "data"
   ]
  },
  {
   "cell_type": "code",
   "execution_count": null,
   "metadata": {},
   "outputs": [],
   "source": [
    "# 판다스 라이브러리를 사용하기 위해서는 최초 1회 판다스를 설치\n",
    "# 터미널에서 pip install pandas"
   ]
  },
  {
   "cell_type": "code",
   "execution_count": 2,
   "metadata": {},
   "outputs": [],
   "source": [
    "# 판다스 라이브러리를 사용하기 위해서는 판다스를 import \n",
    "import pandas\n"
   ]
  },
  {
   "cell_type": "code",
   "execution_count": 3,
   "metadata": {},
   "outputs": [
    {
     "data": {
      "text/html": [
       "<div>\n",
       "<style scoped>\n",
       "    .dataframe tbody tr th:only-of-type {\n",
       "        vertical-align: middle;\n",
       "    }\n",
       "\n",
       "    .dataframe tbody tr th {\n",
       "        vertical-align: top;\n",
       "    }\n",
       "\n",
       "    .dataframe thead th {\n",
       "        text-align: right;\n",
       "    }\n",
       "</style>\n",
       "<table border=\"1\" class=\"dataframe\">\n",
       "  <thead>\n",
       "    <tr style=\"text-align: right;\">\n",
       "      <th></th>\n",
       "      <th>이름</th>\n",
       "      <th>학급</th>\n",
       "      <th>국어점수</th>\n",
       "      <th>영어점수</th>\n",
       "      <th>평균</th>\n",
       "      <th>취미</th>\n",
       "    </tr>\n",
       "  </thead>\n",
       "  <tbody>\n",
       "    <tr>\n",
       "      <th>0</th>\n",
       "      <td>김수한무</td>\n",
       "      <td>개나리</td>\n",
       "      <td>90</td>\n",
       "      <td>20</td>\n",
       "      <td>55.0</td>\n",
       "      <td>독서</td>\n",
       "    </tr>\n",
       "    <tr>\n",
       "      <th>1</th>\n",
       "      <td>두루미와</td>\n",
       "      <td>개나리</td>\n",
       "      <td>50</td>\n",
       "      <td>30</td>\n",
       "      <td>40.0</td>\n",
       "      <td></td>\n",
       "    </tr>\n",
       "    <tr>\n",
       "      <th>2</th>\n",
       "      <td>거북이</td>\n",
       "      <td>개나리</td>\n",
       "      <td>60</td>\n",
       "      <td>10</td>\n",
       "      <td>35.0</td>\n",
       "      <td></td>\n",
       "    </tr>\n",
       "    <tr>\n",
       "      <th>3</th>\n",
       "      <td>민규</td>\n",
       "      <td>노란</td>\n",
       "      <td>70</td>\n",
       "      <td>80</td>\n",
       "      <td>75.0</td>\n",
       "      <td>헬스</td>\n",
       "    </tr>\n",
       "    <tr>\n",
       "      <th>4</th>\n",
       "      <td>민지</td>\n",
       "      <td>노란</td>\n",
       "      <td>80</td>\n",
       "      <td>90</td>\n",
       "      <td>85.0</td>\n",
       "      <td>축구</td>\n",
       "    </tr>\n",
       "  </tbody>\n",
       "</table>\n",
       "</div>"
      ],
      "text/plain": [
       "     이름   학급  국어점수  영어점수    평균  취미\n",
       "0  김수한무  개나리    90    20  55.0  독서\n",
       "1  두루미와  개나리    50    30  40.0    \n",
       "2   거북이  개나리    60    10  35.0    \n",
       "3    민규   노란    70    80  75.0  헬스\n",
       "4    민지   노란    80    90  85.0  축구"
      ]
     },
     "execution_count": 3,
     "metadata": {},
     "output_type": "execute_result"
    }
   ],
   "source": [
    "# 판다스 라이브러리에서 제공하는 DataFrame 생성\n",
    "# DataFrame : 데이터 분석에서 사용, 데이터를 2차원 표 형태로 제공\n",
    "df = pandas.DataFrame(data)\n",
    "\n",
    "df"
   ]
  },
  {
   "cell_type": "code",
   "execution_count": 5,
   "metadata": {},
   "outputs": [
    {
     "data": {
      "text/plain": [
       "0    개나리\n",
       "1    개나리\n",
       "2    개나리\n",
       "3     노란\n",
       "4     노란\n",
       "Name: 학급, dtype: object"
      ]
     },
     "execution_count": 5,
     "metadata": {},
     "output_type": "execute_result"
    }
   ],
   "source": [
    "# 특정 컬럼의 데이터만 조회\n",
    "df['학급']"
   ]
  },
  {
   "cell_type": "code",
   "execution_count": 15,
   "metadata": {},
   "outputs": [
    {
     "data": {
      "text/html": [
       "<div>\n",
       "<style scoped>\n",
       "    .dataframe tbody tr th:only-of-type {\n",
       "        vertical-align: middle;\n",
       "    }\n",
       "\n",
       "    .dataframe tbody tr th {\n",
       "        vertical-align: top;\n",
       "    }\n",
       "\n",
       "    .dataframe thead th {\n",
       "        text-align: right;\n",
       "    }\n",
       "</style>\n",
       "<table border=\"1\" class=\"dataframe\">\n",
       "  <thead>\n",
       "    <tr style=\"text-align: right;\">\n",
       "      <th></th>\n",
       "      <th>이름</th>\n",
       "      <th>학급</th>\n",
       "    </tr>\n",
       "  </thead>\n",
       "  <tbody>\n",
       "    <tr>\n",
       "      <th>0</th>\n",
       "      <td>김수한무</td>\n",
       "      <td>개나리</td>\n",
       "    </tr>\n",
       "    <tr>\n",
       "      <th>1</th>\n",
       "      <td>두루미와</td>\n",
       "      <td>개나리</td>\n",
       "    </tr>\n",
       "    <tr>\n",
       "      <th>2</th>\n",
       "      <td>거북이</td>\n",
       "      <td>개나리</td>\n",
       "    </tr>\n",
       "    <tr>\n",
       "      <th>3</th>\n",
       "      <td>민규</td>\n",
       "      <td>노란</td>\n",
       "    </tr>\n",
       "    <tr>\n",
       "      <th>4</th>\n",
       "      <td>민지</td>\n",
       "      <td>노란</td>\n",
       "    </tr>\n",
       "  </tbody>\n",
       "</table>\n",
       "</div>"
      ],
      "text/plain": [
       "     이름   학급\n",
       "0  김수한무  개나리\n",
       "1  두루미와  개나리\n",
       "2   거북이  개나리\n",
       "3    민규   노란\n",
       "4    민지   노란"
      ]
     },
     "execution_count": 15,
     "metadata": {},
     "output_type": "execute_result"
    }
   ],
   "source": [
    "# 이름, 학급 컬럼에 대한 데이터만 조회 \n",
    "# df['이름'],df['학급']\n",
    "df[['이름','학급']]\n",
    "\n",
    "# df(조회할 컬럼, 숫자)\n",
    "# ['이름','학급'] 조회할 하나의 컬럼\n",
    "\n"
   ]
  }
 ],
 "metadata": {
  "kernelspec": {
   "display_name": "Python 3",
   "language": "python",
   "name": "python3"
  },
  "language_info": {
   "codemirror_mode": {
    "name": "ipython",
    "version": 3
   },
   "file_extension": ".py",
   "mimetype": "text/x-python",
   "name": "python",
   "nbconvert_exporter": "python",
   "pygments_lexer": "ipython3",
   "version": "3.12.5"
  }
 },
 "nbformat": 4,
 "nbformat_minor": 2
}

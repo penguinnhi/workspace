{
 "cells": [
  {
   "cell_type": "markdown",
   "metadata": {},
   "source": []
  },
  {
   "cell_type": "code",
   "execution_count": 3,
   "metadata": {},
   "outputs": [
    {
     "name": "stdout",
     "output_type": "stream",
     "text": [
      "3\n"
     ]
    }
   ],
   "source": [
    "# 파이썬은 세미콜론은 없음 중괄호도 없음 \n",
    "num=5\n",
    "\n",
    "if num>10 : \n",
    "  print(1)\n",
    "elif num>5 : print(2)\n",
    "else : print(3)"
   ]
  },
  {
   "cell_type": "code",
   "execution_count": null,
   "metadata": {},
   "outputs": [],
   "source": [
    "# 조건문의 영역은 어디까지? \n",
    "# 파이썬은 모든 문법의 영역을 들여쓰기로 판단 \n",
    "if 10>5 : \n",
    "  print(1)\n",
    "print(2)"
   ]
  },
  {
   "cell_type": "code",
   "execution_count": 5,
   "metadata": {},
   "outputs": [
    {
     "name": "stdout",
     "output_type": "stream",
     "text": [
      "2\n"
     ]
    }
   ],
   "source": [
    "# 키보드로 두 정수를 입력받아 두 정수 중 큰 수를 입력\n",
    "num1=int(input('숫자1:'))\n",
    "num2=int(input('숫자2:'))\n",
    "\n",
    "if num1>num2:print(num1)\n",
    "else : print(num2)"
   ]
  }
 ],
 "metadata": {
  "kernelspec": {
   "display_name": "Python 3",
   "language": "python",
   "name": "python3"
  },
  "language_info": {
   "codemirror_mode": {
    "name": "ipython",
    "version": 3
   },
   "file_extension": ".py",
   "mimetype": "text/x-python",
   "name": "python",
   "nbconvert_exporter": "python",
   "pygments_lexer": "ipython3",
   "version": "3.12.5"
  }
 },
 "nbformat": 4,
 "nbformat_minor": 2
}

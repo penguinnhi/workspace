{
 "cells": [
  {
   "cell_type": "code",
   "execution_count": null,
   "metadata": {},
   "outputs": [],
   "source": [
    "# 자바 - 리스트, 배열 / 자바스크립트 - 배열\n",
    "# 파이썬 - 리스트 \n",
    "\n",
    "# 자바 - 클래스 / 자바스크립트 - 객체 \n",
    "# 파이썬 - 딕셔너리 "
   ]
  },
  {
   "cell_type": "code",
   "execution_count": 1,
   "metadata": {},
   "outputs": [
    {
     "name": "stdout",
     "output_type": "stream",
     "text": [
      "[1, 1.5, 'pp']\n"
     ]
    }
   ],
   "source": [
    "# 리스트\n",
    "# 주의사항 : 변수명으로 list 사용 금지 \n",
    "list1=[1,2,3]\n",
    "list2=[1,1.5,'pp']\n",
    "print(list2)"
   ]
  },
  {
   "cell_type": "code",
   "execution_count": 9,
   "metadata": {},
   "outputs": [
    {
     "name": "stdout",
     "output_type": "stream",
     "text": [
      "1\n"
     ]
    }
   ],
   "source": [
    "# 딕셔너리 \n",
    "student={'stuNum':1,'stuName':'피크닉','score':80}\n",
    "print(student['stuNum'])"
   ]
  }
 ],
 "metadata": {
  "kernelspec": {
   "display_name": "Python 3",
   "language": "python",
   "name": "python3"
  },
  "language_info": {
   "codemirror_mode": {
    "name": "ipython",
    "version": 3
   },
   "file_extension": ".py",
   "mimetype": "text/x-python",
   "name": "python",
   "nbconvert_exporter": "python",
   "pygments_lexer": "ipython3",
   "version": "3.12.5"
  }
 },
 "nbformat": 4,
 "nbformat_minor": 2
}
